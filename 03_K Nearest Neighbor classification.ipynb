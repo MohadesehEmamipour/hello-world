{
 "cells": [
  {
   "cell_type": "code",
   "execution_count": 40,
   "id": "every-primary",
   "metadata": {},
   "outputs": [],
   "source": [
    "from sklearn.neighbors import KNeighborsClassifier\n",
    "import matplotlib.pyplot as plt\n",
    "from dataset import load_hoda"
   ]
  },
  {
   "cell_type": "code",
   "execution_count": 41,
   "id": "green-administrator",
   "metadata": {},
   "outputs": [],
   "source": [
    "x_train,y_train,x_test,y_test=load_hoda()"
   ]
  },
  {
   "cell_type": "code",
   "execution_count": 42,
   "id": "international-reconstruction",
   "metadata": {},
   "outputs": [
    {
     "data": {
      "text/plain": [
       "KNeighborsClassifier(n_neighbors=3)"
      ]
     },
     "execution_count": 42,
     "metadata": {},
     "output_type": "execute_result"
    }
   ],
   "source": [
    "neigh=KNeighborsClassifier(n_neighbors=3)\n",
    "neigh.fit(x_train,y_train)"
   ]
  },
  {
   "cell_type": "code",
   "execution_count": 43,
   "id": "offensive-still",
   "metadata": {},
   "outputs": [
    {
     "name": "stdout",
     "output_type": "stream",
     "text": [
      "sample 4 is a 5 , and you prediction is : 5 .\n"
     ]
    }
   ],
   "source": [
    "sample= 4\n",
    "x=[x_test[sample]]\n",
    "predicted_class=neigh.predict(x)\n",
    "actual_class=y_test[sample]\n",
    "print('sample {} is a {} , and you prediction is : {} .'.format(sample,actual_class,predicted_class[0]))"
   ]
  },
  {
   "cell_type": "code",
   "execution_count": 44,
   "id": "special-survival",
   "metadata": {},
   "outputs": [
    {
     "name": "stdout",
     "output_type": "stream",
     "text": [
      "[[0. 0. 0. 0. 0. 1. 0. 0. 0. 0.]]\n"
     ]
    }
   ],
   "source": [
    "print(neigh.predict_proba(x))"
   ]
  },
  {
   "cell_type": "markdown",
   "id": "pleased-correspondence",
   "metadata": {},
   "source": [
    "# پیش بینی چندین داده ازمون"
   ]
  },
  {
   "cell_type": "code",
   "execution_count": 46,
   "id": "commercial-office",
   "metadata": {},
   "outputs": [
    {
     "name": "stdout",
     "output_type": "stream",
     "text": [
      "predicted classes:\n",
      "[7 2 3 1 5 5 4 7 3 2 0 8 8 0 3 9 3 6 7 4 0 3 6 3 9 2 7 5 2 9 7 5 5 8 9 6 5\n",
      " 1 4 8 8 4 2 7 1 2 7 9 0 3 7 4 7 5 2 9 8 2 9 8 8 6 6 6 7 6 2 4 1 4 4 5 9 1\n",
      " 8 2 0 5 6 2 4 3 2 7 7 7 7 1 8 1 7 8 7 7 8 9 3 2 3 1 0 2 9 7 3 5 5 0 0 2 6\n",
      " 7 9 3 9 9 8 7 9 2 5 2 5 5 9 6 9 2 0 3 7 6 5 2 9 0 4 1 8 2 2 3 0 2 9 3 8 6\n",
      " 7 0 9 9 0 7 6 1 4 7 9 3 7 0 7 1 9 4 7 3 4 1 5 6 7 9 1 3 5 4 5 7 4 1 3 3 1\n",
      " 2 5 3 8 9 6 7 7 2 3 0 1 4 9 5]\n",
      "true classes:\n",
      "[7 2 3 1 5 5 4 7 3 2 0 8 8 0 2 9 3 6 7 4 0 3 6 3 9 2 7 5 2 9 7 5 5 8 9 6 5\n",
      " 1 4 8 8 4 7 7 1 2 7 9 0 3 7 4 7 5 2 9 8 2 9 8 8 6 6 6 6 6 2 4 3 4 4 5 9 1\n",
      " 8 2 0 5 6 2 4 3 2 7 7 7 7 1 8 1 7 8 7 7 8 9 3 2 3 1 0 2 9 6 3 5 5 0 0 3 6\n",
      " 7 9 3 9 9 8 7 9 2 5 2 5 5 9 6 9 2 0 3 7 6 5 2 9 0 4 1 8 2 2 3 0 2 9 3 8 6\n",
      " 7 0 9 9 0 7 6 5 4 7 9 3 7 0 7 1 9 4 7 3 4 1 5 6 7 9 1 3 5 4 5 7 4 1 3 3 1\n",
      " 2 3 3 8 9 6 7 7 2 3 0 1 4 9 5]\n"
     ]
    }
   ],
   "source": [
    "pred_classes=neigh.predict(x_test)\n",
    "true_classes=y_test\n",
    "print('predicted classes:')\n",
    "print(pred_classes)\n",
    "print('true classes:')\n",
    "print(true_classes)"
   ]
  },
  {
   "cell_type": "markdown",
   "id": "architectural-style",
   "metadata": {},
   "source": [
    "# ارزیابی"
   ]
  },
  {
   "cell_type": "code",
   "execution_count": 47,
   "id": "blond-voluntary",
   "metadata": {},
   "outputs": [
    {
     "name": "stdout",
     "output_type": "stream",
     "text": [
      "Accuracy is 96.00 %\n"
     ]
    }
   ],
   "source": [
    "acc=neigh.score(x_test,y_test)\n",
    "print('Accuracy is %.2f %%'%(acc*100))"
   ]
  },
  {
   "cell_type": "code",
   "execution_count": null,
   "id": "critical-doctrine",
   "metadata": {},
   "outputs": [],
   "source": []
  }
 ],
 "metadata": {
  "kernelspec": {
   "display_name": "Python 3",
   "language": "python",
   "name": "python3"
  },
  "language_info": {
   "codemirror_mode": {
    "name": "ipython",
    "version": 3
   },
   "file_extension": ".py",
   "mimetype": "text/x-python",
   "name": "python",
   "nbconvert_exporter": "python",
   "pygments_lexer": "ipython3",
   "version": "3.6.13"
  }
 },
 "nbformat": 4,
 "nbformat_minor": 5
}
